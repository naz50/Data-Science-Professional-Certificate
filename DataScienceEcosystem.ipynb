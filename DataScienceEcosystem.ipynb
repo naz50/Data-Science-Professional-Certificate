{
  "metadata": {
    "kernelspec": {
      "name": "python",
      "display_name": "Python (Pyodide)",
      "language": "python"
    },
    "language_info": {
      "codemirror_mode": {
        "name": "python",
        "version": 3
      },
      "file_extension": ".py",
      "mimetype": "text/x-python",
      "name": "python",
      "nbconvert_exporter": "python",
      "pygments_lexer": "ipython3",
      "version": "3.8"
    }
  },
  "nbformat_minor": 5,
  "nbformat": 4,
  "cells": [
    {
      "cell_type": "markdown",
      "source": "# Data Science Tools and Ecosystem",
      "metadata": {},
      "id": "f7db85f1-8d3a-4fa8-be3b-708c588b0db0"
    },
    {
      "cell_type": "markdown",
      "source": "In this notebook, Data Science Tools and Ecosystem are summarized.",
      "metadata": {},
      "id": "f1d45058-fa7b-424b-9d4c-322029868d99"
    },
    {
      "cell_type": "markdown",
      "source": "Some of the popular languages that Data Scientists use are:\n1.Python\n2.Julia\n3.R",
      "metadata": {},
      "id": "393276c2-98b7-42d0-b2b6-a8cc21c24960"
    },
    {
      "cell_type": "markdown",
      "source": "Some of the commonly used libraries used by Data Scientists include:\n1.Numpy\n2.Pandas\n3.Tensorflow",
      "metadata": {},
      "id": "6c05d4ab-ad18-466f-a066-afc027ab0161"
    },
    {
      "cell_type": "code",
      "source": "from IPython.display import Markdown, display\n\n# Define the table contents\ntable = \"| Tool | Description |\\n| --- | --- |\\n| NumPy | Numerical computing library |\\n| Pandas | Data manipulation and analysis library |\\n| Matplotlib | Data visualization library |\\n| Scikit-learn | Machine learning library |\\n| TensorFlow | Open-source machine learning platform |\\n| Keras | High-level neural networks API |\\n| PyTorch | Open-source machine learning library |\\n| Seaborn | Data visualization library |\\n| SciPy | Scientific computing library |\\n| NLTK | Natural language processing library |\\n| Statsmodels | Statistical modeling library |\"\n\n# Create the Markdown cell\ndisplay(Markdown(table))\n",
      "metadata": {
        "trusted": true
      },
      "execution_count": 1,
      "outputs": [
        {
          "output_type": "display_data",
          "data": {
            "text/plain": "<IPython.core.display.Markdown object>",
            "text/markdown": "| Tool | Description |\n| --- | --- |\n| NumPy | Numerical computing library |\n| Pandas | Data manipulation and analysis library |\n| Matplotlib | Data visualization library |\n| Scikit-learn | Machine learning library |\n| TensorFlow | Open-source machine learning platform |\n| Keras | High-level neural networks API |\n| PyTorch | Open-source machine learning library |\n| Seaborn | Data visualization library |\n| SciPy | Scientific computing library |\n| NLTK | Natural language processing library |\n| Statsmodels | Statistical modeling library |"
          },
          "metadata": {}
        }
      ],
      "id": "a04b9b4e-7bc0-40a3-a6a1-6f139acad9d0"
    },
    {
      "cell_type": "code",
      "source": "from IPython.display import Markdown, display\n\n# Define the Markdown string with the H3 heading\nmd = \"### Below are a few examples of evaluating arithmetic expressions in Python\\n\"\n\n# Add the Markdown string to the existing Markdown cell\ndisplay(Markdown(md))\n",
      "metadata": {
        "trusted": true
      },
      "execution_count": 2,
      "outputs": [
        {
          "output_type": "display_data",
          "data": {
            "text/plain": "<IPython.core.display.Markdown object>",
            "text/markdown": "### Below are a few examples of evaluating arithmetic expressions in Python\n"
          },
          "metadata": {}
        }
      ],
      "id": "a67a4e87-4516-407a-968b-866c5cfc8f06"
    },
    {
      "cell_type": "code",
      "source": "(3*4)+5",
      "metadata": {
        "trusted": true
      },
      "execution_count": 3,
      "outputs": [
        {
          "execution_count": 3,
          "output_type": "execute_result",
          "data": {
            "text/plain": "17"
          },
          "metadata": {}
        }
      ],
      "id": "5bb9636a-7d66-4a04-ad08-11ab3990125a"
    },
    {
      "cell_type": "markdown",
      "source": "this a simple arithmetic expression to mutiply then add integers",
      "metadata": {},
      "id": "2ca5692a-9937-40e2-af97-6479dc037a9d"
    },
    {
      "cell_type": "code",
      "source": "# Define the value in minutes\nminutes = 120\n\n# Convert minutes to hours\nhours = minutes / 60\n\n# Print the result\nprint(f\"{minutes} minutes is equal to {hours} hours\")\n",
      "metadata": {
        "trusted": true
      },
      "execution_count": 5,
      "outputs": [
        {
          "name": "stdout",
          "text": "120 minutes is equal to 2.0 hours\n",
          "output_type": "stream"
        }
      ],
      "id": "ef8a8b96-7018-4e62-b628-ded203a38cfa"
    },
    {
      "cell_type": "markdown",
      "source": "This will convert 200 minutes to hours by diving by 60",
      "metadata": {},
      "id": "da22bff2-3ec9-47a8-b0f9-72eb352abad9"
    },
    {
      "cell_type": "code",
      "source": "\nmarks = \"### objectives:\\n ### -JULIA\\n  ### -JAVASCRIPTS\\n ### -PYTHON\\n ### -C++\\n\"\ndisplay(Markdown(marks))",
      "metadata": {
        "trusted": true
      },
      "execution_count": 26,
      "outputs": [
        {
          "output_type": "display_data",
          "data": {
            "text/plain": "<IPython.core.display.Markdown object>",
            "text/markdown": "### objectives:\n ### -JULIA\n  ### -JAVASCRIPTS\n ### -PYTHON\n ### -C++\n"
          },
          "metadata": {}
        }
      ],
      "id": "652e4a0a-a3c6-4b3e-845d-66a9c9bac846"
    },
    {
      "cell_type": "markdown",
      "source": "## Author LIU XIAOQUAN",
      "metadata": {},
      "id": "b5d4fe8e-57f6-4a08-b256-7d8bb19884b9"
    },
    {
      "cell_type": "code",
      "source": "",
      "metadata": {},
      "execution_count": null,
      "outputs": [],
      "id": "854fbb58-8ef8-47ea-95cd-6c0a7414af07"
    }
  ]
}